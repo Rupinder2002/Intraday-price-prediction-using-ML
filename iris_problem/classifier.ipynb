{
 "cells": [
  {
   "cell_type": "code",
   "execution_count": 3,
   "metadata": {},
   "outputs": [],
   "source": [
    "import pandas as pd\n",
    "import numpy as np\n"
   ]
  },
  {
   "cell_type": "code",
   "execution_count": 4,
   "metadata": {},
   "outputs": [],
   "source": [
    "#Reading of data file\n",
    "\n",
    "data= pd.read_csv(\"iris.data\", header=0, names=[\"sepal_width\",\"sepal_length\",\"petal_width\",\"petal_length\",\"class\"])"
   ]
  },
  {
   "cell_type": "code",
   "execution_count": 55,
   "metadata": {},
   "outputs": [],
   "source": [
    "#Data preparation\n",
    "\n",
    "train= data.sample(frac=0.8,random_state=100)\n",
    "X_train= train.drop(\"class\",axis=1)\n",
    "Y_train= train.drop(X_train.columns.difference(['class']),axis=1)\n",
    "test= data.drop(train.index,axis=0)\n",
    "X_test= test.drop(\"class\",axis=1)\n",
    "Y_test=test.drop(X_test.columns.difference(['class']),axis=1)"
   ]
  },
  {
   "cell_type": "code",
   "execution_count": 56,
   "metadata": {},
   "outputs": [
    {
     "name": "stdout",
     "output_type": "stream",
     "text": [
      "Accuracy achieved =  0.9666666666666667\n",
      "\n",
      "====================\n",
      "Results\n",
      "====================\n",
      "\n",
      "Correct Prediction for  Iris-setosa\n",
      "Correct Prediction for  Iris-setosa\n",
      "Correct Prediction for  Iris-setosa\n",
      "Correct Prediction for  Iris-setosa\n",
      "Correct Prediction for  Iris-setosa\n",
      "Correct Prediction for  Iris-setosa\n",
      "Correct Prediction for  Iris-setosa\n",
      "Correct Prediction for  Iris-versicolor\n",
      "Correct Prediction for  Iris-versicolor\n",
      "Correct Prediction for  Iris-versicolor\n",
      "Correct Prediction for  Iris-versicolor\n",
      "Correct Prediction for  Iris-versicolor\n",
      "Correct Prediction for  Iris-versicolor\n",
      "Correct Prediction for  Iris-versicolor\n",
      "Correct Prediction for  Iris-versicolor\n",
      "XXXXX Wrong XXXXX-----> correct:  Iris-versicolor    -----> predicted:  Iris-virginica\n",
      "Correct Prediction for  Iris-versicolor\n",
      "Correct Prediction for  Iris-versicolor\n",
      "Correct Prediction for  Iris-versicolor\n",
      "Correct Prediction for  Iris-versicolor\n",
      "Correct Prediction for  Iris-versicolor\n",
      "Correct Prediction for  Iris-versicolor\n",
      "Correct Prediction for  Iris-versicolor\n",
      "Correct Prediction for  Iris-virginica\n",
      "Correct Prediction for  Iris-virginica\n",
      "Correct Prediction for  Iris-virginica\n",
      "Correct Prediction for  Iris-virginica\n",
      "Correct Prediction for  Iris-virginica\n",
      "Correct Prediction for  Iris-virginica\n",
      "Correct Prediction for  Iris-virginica\n"
     ]
    }
   ],
   "source": [
    "#using Knn\n",
    "\n",
    "from sklearn.neighbors import KNeighborsClassifier \n",
    "knn = KNeighborsClassifier(n_neighbors = 7).fit(X_train, np.ravel(Y_train)) \n",
    "  \n",
    "accuracy = knn.score(X_test, np.ravel(Y_test)) \n",
    "print (\"Accuracy achieved = \",accuracy) \n",
    "\n",
    "y= np.ravel(Y_test)\n",
    "\n",
    "knn_predictions = knn.predict(X_test)\n",
    "\n",
    "#tabular representation of tested data\n",
    "\n",
    "print (\"\\n====================\\nResults\\n====================\\n\") \n",
    "for i in range(len(Y_test)):\n",
    "    if(y[i]==knn_predictions[i]):\n",
    "        print(\"Correct Prediction for \",y[i])\n",
    "    else:\n",
    "        print(\"XXXXX Wrong XXXXX-----> correct: \",y[i],\"   -----> predicted: \",knn_predictions[i])\n"
   ]
  },
  {
   "cell_type": "code",
   "execution_count": 58,
   "metadata": {},
   "outputs": [
    {
     "name": "stdout",
     "output_type": "stream",
     "text": [
      "Accuracy achieved =  1.0\n",
      "\n",
      "====================\n",
      "Results\n",
      "====================\n",
      "\n",
      "Correct Prediction for  Iris-setosa\n",
      "Correct Prediction for  Iris-setosa\n",
      "Correct Prediction for  Iris-setosa\n",
      "Correct Prediction for  Iris-setosa\n",
      "Correct Prediction for  Iris-setosa\n",
      "Correct Prediction for  Iris-setosa\n",
      "Correct Prediction for  Iris-setosa\n",
      "Correct Prediction for  Iris-versicolor\n",
      "Correct Prediction for  Iris-versicolor\n",
      "Correct Prediction for  Iris-versicolor\n",
      "Correct Prediction for  Iris-versicolor\n",
      "Correct Prediction for  Iris-versicolor\n",
      "Correct Prediction for  Iris-versicolor\n",
      "Correct Prediction for  Iris-versicolor\n",
      "Correct Prediction for  Iris-versicolor\n",
      "Correct Prediction for  Iris-versicolor\n",
      "Correct Prediction for  Iris-versicolor\n",
      "Correct Prediction for  Iris-versicolor\n",
      "Correct Prediction for  Iris-versicolor\n",
      "Correct Prediction for  Iris-versicolor\n",
      "Correct Prediction for  Iris-versicolor\n",
      "Correct Prediction for  Iris-versicolor\n",
      "Correct Prediction for  Iris-versicolor\n",
      "Correct Prediction for  Iris-virginica\n",
      "Correct Prediction for  Iris-virginica\n",
      "Correct Prediction for  Iris-virginica\n",
      "Correct Prediction for  Iris-virginica\n",
      "Correct Prediction for  Iris-virginica\n",
      "Correct Prediction for  Iris-virginica\n",
      "Correct Prediction for  Iris-virginica\n"
     ]
    }
   ],
   "source": [
    "#using svm\n",
    "from sklearn.svm import SVC \n",
    "svm_model_linear = SVC(kernel = 'linear', C = 1).fit(X_train, np.ravel(Y_train)) \n",
    "svm_predictions = svm_model_linear.predict(X_test) \n",
    "\n",
    "accuracy = svm_model_linear.score(X_test, np.ravel(Y_test)) \n",
    "print (\"Accuracy achieved = \",accuracy) \n",
    "\n",
    "y= np.ravel(Y_test)\n",
    "\n",
    "knn_predictions = svm_model_linear.predict(X_test)\n",
    "\n",
    "#tabular representation of tested data\n",
    "\n",
    "print (\"\\n====================\\nResults\\n====================\\n\") \n",
    "for i in range(len(Y_test)):\n",
    "    if(y[i]==svm_predictions[i]):\n",
    "        print(\"Correct Prediction for \",y[i])\n",
    "    else:\n",
    "        print(\"XXXXX Wrong XXXXX-----> correct: \",y[i],\"   -----> predicted: \",svm_predictions[i])\n"
   ]
  },
  {
   "cell_type": "code",
   "execution_count": null,
   "metadata": {},
   "outputs": [],
   "source": []
  }
 ],
 "metadata": {
  "kernelspec": {
   "display_name": "Python 3",
   "language": "python",
   "name": "python3"
  },
  "language_info": {
   "codemirror_mode": {
    "name": "ipython",
    "version": 3
   },
   "file_extension": ".py",
   "mimetype": "text/x-python",
   "name": "python",
   "nbconvert_exporter": "python",
   "pygments_lexer": "ipython3",
   "version": "3.7.4"
  }
 },
 "nbformat": 4,
 "nbformat_minor": 2
}
