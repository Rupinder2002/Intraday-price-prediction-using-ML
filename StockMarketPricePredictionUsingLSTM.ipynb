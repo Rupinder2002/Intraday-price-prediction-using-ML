{
  "nbformat": 4,
  "nbformat_minor": 0,
  "metadata": {
    "colab": {
      "name": "Untitled0.ipynb",
      "provenance": [],
      "collapsed_sections": [],
      "authorship_tag": "ABX9TyP5T8zOscKAaFfAkuVu5Kht",
      "include_colab_link": true
    },
    "kernelspec": {
      "name": "python3",
      "display_name": "Python 3"
    },
    "accelerator": "GPU"
  },
  "cells": [
    {
      "cell_type": "markdown",
      "metadata": {
        "id": "view-in-github",
        "colab_type": "text"
      },
      "source": [
        "<a href=\"https://colab.research.google.com/github/bionic-brahma/Data_Science_Collection/blob/master/StockMarketPricePredictionUsingLSTM.ipynb\" target=\"_parent\"><img src=\"https://colab.research.google.com/assets/colab-badge.svg\" alt=\"Open In Colab\"/></a>"
      ]
    },
    {
      "cell_type": "code",
      "metadata": {
        "id": "oI0RhIMS3SRX"
      },
      "source": [
        "import pandas_datareader as pdr"
      ],
      "execution_count": 338,
      "outputs": []
    },
    {
      "cell_type": "code",
      "metadata": {
        "id": "pCZbIpbf3yK0"
      },
      "source": [
        "df= pdr.get_data_tiingo(\"AAPL\", api_key=\"116c09cc46f5e12205ee698b8e2586d7974e50a1\")"
      ],
      "execution_count": 339,
      "outputs": []
    },
    {
      "cell_type": "code",
      "metadata": {
        "id": "G9xEnlTD48vY"
      },
      "source": [
        "import pandas as pd"
      ],
      "execution_count": 340,
      "outputs": []
    },
    {
      "cell_type": "code",
      "metadata": {
        "id": "5sgCPSuV5BXe"
      },
      "source": [
        "df.to_csv(\"AAPL.csv\")"
      ],
      "execution_count": 341,
      "outputs": []
    },
    {
      "cell_type": "code",
      "metadata": {
        "id": "vOZr62pi5SEU"
      },
      "source": [
        "df= pd.read_csv(\"AAPL.csv\")\r\n"
      ],
      "execution_count": 364,
      "outputs": []
    },
    {
      "cell_type": "code",
      "metadata": {
        "id": "bE8whrhU5vNc"
      },
      "source": [
        "df1=df.reset_index()[\"close\"]"
      ],
      "execution_count": 365,
      "outputs": []
    },
    {
      "cell_type": "code",
      "metadata": {
        "colab": {
          "base_uri": "https://localhost:8080/",
          "height": 282
        },
        "id": "MH9ynboN6iYL",
        "outputId": "b297c478-7883-4bcb-be56-a3a98e8cef9c"
      },
      "source": [
        "import matplotlib.pyplot as plt\r\n",
        "plt.plot(df1)"
      ],
      "execution_count": 366,
      "outputs": [
        {
          "output_type": "execute_result",
          "data": {
            "text/plain": [
              "[<matplotlib.lines.Line2D at 0x7f234e5c4ba8>]"
            ]
          },
          "metadata": {
            "tags": []
          },
          "execution_count": 366
        },
        {
          "output_type": "display_data",
          "data": {
            "image/png": "[encoded data removed]",
            "text/plain": [
              "<Figure size 432x288 with 1 Axes>"
            ]
          },
          "metadata": {
            "tags": [],
            "needs_background": "light"
          }
        }
      ]
    },
    {
      "cell_type": "code",
      "metadata": {
        "id": "QQD5fY077KI0"
      },
      "source": [
        "import numpy as np\r\n",
        "from sklearn.preprocessing import MinMaxScaler\r\n",
        "scaler= MinMaxScaler(feature_range=(0,1))\r\n",
        "df1= scaler.fit_transform(np.array(df1).reshape(-1,1))"
      ],
      "execution_count": 367,
      "outputs": []
    },
    {
      "cell_type": "code",
      "metadata": {
        "id": "5Hpm5qNWTEOX"
      },
      "source": [
        ""
      ],
      "execution_count": 345,
      "outputs": []
    },
    {
      "cell_type": "code",
      "metadata": {
        "id": "lrhAhCe_8e8r"
      },
      "source": [
        "training_size= int(len(df1)*0.70)\r\n",
        "test_size= len(df1)-training_size\r\n",
        "train_data, test_data= df1[0:training_size,:], df1[training_size:len(df1),:]"
      ],
      "execution_count": 346,
      "outputs": []
    },
    {
      "cell_type": "code",
      "metadata": {
        "id": "QqjmSzyH_SJZ"
      },
      "source": [
        "def create_dataset(dataset, time_step=1):\r\n",
        "  dataX, dataY= [],[]\r\n",
        "  for i in range(len(dataset)-time_step-1):\r\n",
        "    a=dataset[i:(i+time_step),0]\r\n",
        "    dataX.append(a)\r\n",
        "    dataY.append(dataset[i+time_step,0])\r\n",
        "  return np.array(dataX), np.array(dataY)"
      ],
      "execution_count": 347,
      "outputs": []
    },
    {
      "cell_type": "code",
      "metadata": {
        "id": "o1ijVVsyClrZ"
      },
      "source": [
        "time_step=150\r\n",
        "Xtrain, ytrain=create_dataset(train_data,time_step)\r\n",
        "xtest,ytest= create_dataset(test_data,time_step)"
      ],
      "execution_count": 348,
      "outputs": []
    },
    {
      "cell_type": "code",
      "metadata": {
        "id": "Qvadh__sDjfU"
      },
      "source": [
        "Xtrain= Xtrain.reshape(Xtrain.shape[0], Xtrain.shape[1],1)\r\n",
        "xtest= xtest.reshape(xtest.shape[0], xtest.shape[1],1 )"
      ],
      "execution_count": 349,
      "outputs": []
    },
    {
      "cell_type": "code",
      "metadata": {
        "id": "k9GSWsqTEvdo"
      },
      "source": [
        "from tensorflow.keras.models import Sequential\r\n",
        "from tensorflow.keras.layers import Dense\r\n",
        "from tensorflow.keras.layers import LSTM"
      ],
      "execution_count": 350,
      "outputs": []
    },
    {
      "cell_type": "code",
      "metadata": {
        "id": "RPh8-oLJFPm4"
      },
      "source": [
        "model= Sequential()\r\n",
        "model.add(LSTM(50,return_sequences=True, input_shape=(time_step,1)))\r\n",
        "model.add(LSTM(50,return_sequences=True))\r\n",
        "model.add(LSTM(50))\r\n",
        "model.add(Dense(1))\r\n",
        "model.compile(loss='mean_squared_error', optimizer='adam')"
      ],
      "execution_count": 351,
      "outputs": []
    },
    {
      "cell_type": "code",
      "metadata": {
        "colab": {
          "base_uri": "https://localhost:8080/"
        },
        "id": "lM_VFfEZF19C",
        "outputId": "a863fb9c-bad0-432b-8d3e-a4133e7cb7d5"
      },
      "source": [
        "model.summary()"
      ],
      "execution_count": 352,
      "outputs": [
        {
          "output_type": "stream",
          "text": [
            "Model: \"sequential_6\"\n",
            "_________________________________________________________________\n",
            "Layer (type)                 Output Shape              Param #   \n",
            "=================================================================\n",
            "lstm_18 (LSTM)               (None, 150, 50)           10400     \n",
            "_________________________________________________________________\n",
            "lstm_19 (LSTM)               (None, 150, 50)           20200     \n",
            "_________________________________________________________________\n",
            "lstm_20 (LSTM)               (None, 50)                20200     \n",
            "_________________________________________________________________\n",
            "dense_6 (Dense)              (None, 1)                 51        \n",
            "=================================================================\n",
            "Total params: 50,851\n",
            "Trainable params: 50,851\n",
            "Non-trainable params: 0\n",
            "_________________________________________________________________\n"
          ],
          "name": "stdout"
        }
      ]
    },
    {
      "cell_type": "code",
      "metadata": {
        "colab": {
          "base_uri": "https://localhost:8080/"
        },
        "id": "DZpncpxAGFIj",
        "outputId": "8f1377d2-b714-4bd6-b5e0-d048cdaac023"
      },
      "source": [
        "model.fit(Xtrain,ytrain,validation_data=(xtest,ytest),epochs=150,batch_size=128,verbose=1)"
      ],
      "execution_count": 353,
      "outputs": [
        {
          "output_type": "stream",
          "text": [
            "Epoch 1/150\n",
            "6/6 [==============================] - 1s 174ms/step - loss: 0.0114 - val_loss: 0.0356\n",
            "Epoch 2/150\n",
            "6/6 [==============================] - 0s 31ms/step - loss: 0.0026 - val_loss: 0.0689\n",
            "Epoch 3/150\n",
            "6/6 [==============================] - 0s 22ms/step - loss: 0.0024 - val_loss: 0.0403\n",
            "Epoch 4/150\n",
            "6/6 [==============================] - 0s 22ms/step - loss: 0.0015 - val_loss: 0.0352\n",
            "Epoch 5/150\n",
            "6/6 [==============================] - 0s 21ms/step - loss: 9.8885e-04 - val_loss: 0.0378\n",
            "Epoch 6/150\n",
            "6/6 [==============================] - 0s 21ms/step - loss: 6.9018e-04 - val_loss: 0.0291\n",
            "Epoch 7/150\n",
            "6/6 [==============================] - 0s 22ms/step - loss: 5.0967e-04 - val_loss: 0.0288\n",
            "Epoch 8/150\n",
            "6/6 [==============================] - 0s 22ms/step - loss: 4.4261e-04 - val_loss: 0.0296\n",
            "Epoch 9/150\n",
            "6/6 [==============================] - 0s 23ms/step - loss: 4.2603e-04 - val_loss: 0.0287\n",
            "Epoch 10/150\n",
            "6/6 [==============================] - 0s 23ms/step - loss: 4.1111e-04 - val_loss: 0.0284\n",
            "Epoch 11/150\n",
            "6/6 [==============================] - 0s 22ms/step - loss: 3.7824e-04 - val_loss: 0.0274\n",
            "Epoch 12/150\n",
            "6/6 [==============================] - 0s 22ms/step - loss: 3.6690e-04 - val_loss: 0.0271\n",
            "Epoch 13/150\n",
            "6/6 [==============================] - 0s 21ms/step - loss: 3.5816e-04 - val_loss: 0.0267\n",
            "Epoch 14/150\n",
            "6/6 [==============================] - 0s 22ms/step - loss: 3.5049e-04 - val_loss: 0.0264\n",
            "Epoch 15/150\n",
            "6/6 [==============================] - 0s 21ms/step - loss: 3.4453e-04 - val_loss: 0.0261\n",
            "Epoch 16/150\n",
            "6/6 [==============================] - 0s 21ms/step - loss: 3.3747e-04 - val_loss: 0.0258\n",
            "Epoch 17/150\n",
            "6/6 [==============================] - 0s 24ms/step - loss: 3.3132e-04 - val_loss: 0.0254\n",
            "Epoch 18/150\n",
            "6/6 [==============================] - 0s 22ms/step - loss: 3.2635e-04 - val_loss: 0.0249\n",
            "Epoch 19/150\n",
            "6/6 [==============================] - 0s 24ms/step - loss: 3.1748e-04 - val_loss: 0.0246\n",
            "Epoch 20/150\n",
            "6/6 [==============================] - 0s 22ms/step - loss: 3.1055e-04 - val_loss: 0.0242\n",
            "Epoch 21/150\n",
            "6/6 [==============================] - 0s 23ms/step - loss: 3.0693e-04 - val_loss: 0.0239\n",
            "Epoch 22/150\n",
            "6/6 [==============================] - 0s 21ms/step - loss: 3.1139e-04 - val_loss: 0.0232\n",
            "Epoch 23/150\n",
            "6/6 [==============================] - 0s 22ms/step - loss: 2.9470e-04 - val_loss: 0.0231\n",
            "Epoch 24/150\n",
            "6/6 [==============================] - 0s 22ms/step - loss: 2.8002e-04 - val_loss: 0.0225\n",
            "Epoch 25/150\n",
            "6/6 [==============================] - 0s 22ms/step - loss: 2.7246e-04 - val_loss: 0.0220\n",
            "Epoch 26/150\n",
            "6/6 [==============================] - 0s 21ms/step - loss: 2.6332e-04 - val_loss: 0.0218\n",
            "Epoch 27/150\n",
            "6/6 [==============================] - 0s 23ms/step - loss: 2.5871e-04 - val_loss: 0.0214\n",
            "Epoch 28/150\n",
            "6/6 [==============================] - 0s 22ms/step - loss: 2.4842e-04 - val_loss: 0.0213\n",
            "Epoch 29/150\n",
            "6/6 [==============================] - 0s 22ms/step - loss: 2.4422e-04 - val_loss: 0.0214\n",
            "Epoch 30/150\n",
            "6/6 [==============================] - 0s 22ms/step - loss: 2.3869e-04 - val_loss: 0.0215\n",
            "Epoch 31/150\n",
            "6/6 [==============================] - 0s 22ms/step - loss: 2.3395e-04 - val_loss: 0.0216\n",
            "Epoch 32/150\n",
            "6/6 [==============================] - 0s 22ms/step - loss: 2.2715e-04 - val_loss: 0.0216\n",
            "Epoch 33/150\n",
            "6/6 [==============================] - 0s 22ms/step - loss: 2.2278e-04 - val_loss: 0.0217\n",
            "Epoch 34/150\n",
            "6/6 [==============================] - 0s 21ms/step - loss: 2.2859e-04 - val_loss: 0.0218\n",
            "Epoch 35/150\n",
            "6/6 [==============================] - 0s 21ms/step - loss: 2.4060e-04 - val_loss: 0.0217\n",
            "Epoch 36/150\n",
            "6/6 [==============================] - 0s 22ms/step - loss: 2.3057e-04 - val_loss: 0.0215\n",
            "Epoch 37/150\n",
            "6/6 [==============================] - 0s 22ms/step - loss: 2.5103e-04 - val_loss: 0.0210\n",
            "Epoch 38/150\n",
            "6/6 [==============================] - 0s 22ms/step - loss: 2.4413e-04 - val_loss: 0.0202\n",
            "Epoch 39/150\n",
            "6/6 [==============================] - 0s 22ms/step - loss: 2.2461e-04 - val_loss: 0.0200\n",
            "Epoch 40/150\n",
            "6/6 [==============================] - 0s 22ms/step - loss: 2.3262e-04 - val_loss: 0.0201\n",
            "Epoch 41/150\n",
            "6/6 [==============================] - 0s 22ms/step - loss: 2.0721e-04 - val_loss: 0.0202\n",
            "Epoch 42/150\n",
            "6/6 [==============================] - 0s 21ms/step - loss: 2.0824e-04 - val_loss: 0.0201\n",
            "Epoch 43/150\n",
            "6/6 [==============================] - 0s 24ms/step - loss: 2.0369e-04 - val_loss: 0.0200\n",
            "Epoch 44/150\n",
            "6/6 [==============================] - 0s 21ms/step - loss: 1.9994e-04 - val_loss: 0.0205\n",
            "Epoch 45/150\n",
            "6/6 [==============================] - 0s 23ms/step - loss: 2.0485e-04 - val_loss: 0.0206\n",
            "Epoch 46/150\n",
            "6/6 [==============================] - 0s 22ms/step - loss: 2.1068e-04 - val_loss: 0.0203\n",
            "Epoch 47/150\n",
            "6/6 [==============================] - 0s 22ms/step - loss: 2.0193e-04 - val_loss: 0.0198\n",
            "Epoch 48/150\n",
            "6/6 [==============================] - 0s 22ms/step - loss: 1.9970e-04 - val_loss: 0.0197\n",
            "Epoch 49/150\n",
            "6/6 [==============================] - 0s 22ms/step - loss: 2.0069e-04 - val_loss: 0.0194\n",
            "Epoch 50/150\n",
            "6/6 [==============================] - 0s 22ms/step - loss: 2.0606e-04 - val_loss: 0.0191\n",
            "Epoch 51/150\n",
            "6/6 [==============================] - 0s 21ms/step - loss: 2.1108e-04 - val_loss: 0.0194\n",
            "Epoch 52/150\n",
            "6/6 [==============================] - 0s 22ms/step - loss: 1.9485e-04 - val_loss: 0.0197\n",
            "Epoch 53/150\n",
            "6/6 [==============================] - 0s 21ms/step - loss: 2.0369e-04 - val_loss: 0.0198\n",
            "Epoch 54/150\n",
            "6/6 [==============================] - 0s 21ms/step - loss: 1.9889e-04 - val_loss: 0.0189\n",
            "Epoch 55/150\n",
            "6/6 [==============================] - 0s 22ms/step - loss: 1.8984e-04 - val_loss: 0.0186\n",
            "Epoch 56/150\n",
            "6/6 [==============================] - 0s 23ms/step - loss: 1.8992e-04 - val_loss: 0.0187\n",
            "Epoch 57/150\n",
            "6/6 [==============================] - 0s 21ms/step - loss: 1.8553e-04 - val_loss: 0.0185\n",
            "Epoch 58/150\n",
            "6/6 [==============================] - 0s 23ms/step - loss: 1.8431e-04 - val_loss: 0.0183\n",
            "Epoch 59/150\n",
            "6/6 [==============================] - 0s 22ms/step - loss: 1.9319e-04 - val_loss: 0.0182\n",
            "Epoch 60/150\n",
            "6/6 [==============================] - 0s 22ms/step - loss: 1.8887e-04 - val_loss: 0.0183\n",
            "Epoch 61/150\n",
            "6/6 [==============================] - 0s 22ms/step - loss: 1.8013e-04 - val_loss: 0.0180\n",
            "Epoch 62/150\n",
            "6/6 [==============================] - 0s 23ms/step - loss: 1.7962e-04 - val_loss: 0.0180\n",
            "Epoch 63/150\n",
            "6/6 [==============================] - 0s 22ms/step - loss: 1.7685e-04 - val_loss: 0.0180\n",
            "Epoch 64/150\n",
            "6/6 [==============================] - 0s 22ms/step - loss: 1.7598e-04 - val_loss: 0.0178\n",
            "Epoch 65/150\n",
            "6/6 [==============================] - 0s 22ms/step - loss: 1.7453e-04 - val_loss: 0.0179\n",
            "Epoch 66/150\n",
            "6/6 [==============================] - 0s 21ms/step - loss: 1.7454e-04 - val_loss: 0.0179\n",
            "Epoch 67/150\n",
            "6/6 [==============================] - 0s 21ms/step - loss: 1.8318e-04 - val_loss: 0.0176\n",
            "Epoch 68/150\n",
            "6/6 [==============================] - 0s 22ms/step - loss: 1.7656e-04 - val_loss: 0.0170\n",
            "Epoch 69/150\n",
            "6/6 [==============================] - 0s 22ms/step - loss: 1.8193e-04 - val_loss: 0.0168\n",
            "Epoch 70/150\n",
            "6/6 [==============================] - 0s 22ms/step - loss: 1.7397e-04 - val_loss: 0.0167\n",
            "Epoch 71/150\n",
            "6/6 [==============================] - 0s 22ms/step - loss: 2.0044e-04 - val_loss: 0.0165\n",
            "Epoch 72/150\n",
            "6/6 [==============================] - 0s 22ms/step - loss: 1.9076e-04 - val_loss: 0.0166\n",
            "Epoch 73/150\n",
            "6/6 [==============================] - 0s 22ms/step - loss: 1.9399e-04 - val_loss: 0.0167\n",
            "Epoch 74/150\n",
            "6/6 [==============================] - 0s 21ms/step - loss: 2.0030e-04 - val_loss: 0.0169\n",
            "Epoch 75/150\n",
            "6/6 [==============================] - 0s 22ms/step - loss: 1.8686e-04 - val_loss: 0.0166\n",
            "Epoch 76/150\n",
            "6/6 [==============================] - 0s 23ms/step - loss: 1.6675e-04 - val_loss: 0.0159\n",
            "Epoch 77/150\n",
            "6/6 [==============================] - 0s 23ms/step - loss: 1.6406e-04 - val_loss: 0.0160\n",
            "Epoch 78/150\n",
            "6/6 [==============================] - 0s 22ms/step - loss: 1.6652e-04 - val_loss: 0.0160\n",
            "Epoch 79/150\n",
            "6/6 [==============================] - 0s 23ms/step - loss: 1.6457e-04 - val_loss: 0.0160\n",
            "Epoch 80/150\n",
            "6/6 [==============================] - 0s 22ms/step - loss: 1.6989e-04 - val_loss: 0.0161\n",
            "Epoch 81/150\n",
            "6/6 [==============================] - 0s 22ms/step - loss: 1.6870e-04 - val_loss: 0.0161\n",
            "Epoch 82/150\n",
            "6/6 [==============================] - 0s 23ms/step - loss: 1.7838e-04 - val_loss: 0.0161\n",
            "Epoch 83/150\n",
            "6/6 [==============================] - 0s 22ms/step - loss: 1.7403e-04 - val_loss: 0.0159\n",
            "Epoch 84/150\n",
            "6/6 [==============================] - 0s 23ms/step - loss: 1.7228e-04 - val_loss: 0.0161\n",
            "Epoch 85/150\n",
            "6/6 [==============================] - 0s 22ms/step - loss: 1.7034e-04 - val_loss: 0.0161\n",
            "Epoch 86/150\n",
            "6/6 [==============================] - 0s 22ms/step - loss: 1.7555e-04 - val_loss: 0.0156\n",
            "Epoch 87/150\n",
            "6/6 [==============================] - 0s 25ms/step - loss: 1.7445e-04 - val_loss: 0.0153\n",
            "Epoch 88/150\n",
            "6/6 [==============================] - 0s 21ms/step - loss: 1.6721e-04 - val_loss: 0.0153\n",
            "Epoch 89/150\n",
            "6/6 [==============================] - 0s 22ms/step - loss: 1.6764e-04 - val_loss: 0.0150\n",
            "Epoch 90/150\n",
            "6/6 [==============================] - 0s 22ms/step - loss: 1.5755e-04 - val_loss: 0.0149\n",
            "Epoch 91/150\n",
            "6/6 [==============================] - 0s 21ms/step - loss: 1.4980e-04 - val_loss: 0.0149\n",
            "Epoch 92/150\n",
            "6/6 [==============================] - 0s 22ms/step - loss: 1.5242e-04 - val_loss: 0.0150\n",
            "Epoch 93/150\n",
            "6/6 [==============================] - 0s 22ms/step - loss: 1.5707e-04 - val_loss: 0.0151\n",
            "Epoch 94/150\n",
            "6/6 [==============================] - 0s 22ms/step - loss: 1.5176e-04 - val_loss: 0.0151\n",
            "Epoch 95/150\n",
            "6/6 [==============================] - 0s 24ms/step - loss: 1.5378e-04 - val_loss: 0.0151\n",
            "Epoch 96/150\n",
            "6/6 [==============================] - 0s 22ms/step - loss: 1.5489e-04 - val_loss: 0.0150\n",
            "Epoch 97/150\n",
            "6/6 [==============================] - 0s 21ms/step - loss: 1.5099e-04 - val_loss: 0.0147\n",
            "Epoch 98/150\n",
            "6/6 [==============================] - 0s 22ms/step - loss: 1.5038e-04 - val_loss: 0.0143\n",
            "Epoch 99/150\n",
            "6/6 [==============================] - 0s 22ms/step - loss: 1.4419e-04 - val_loss: 0.0144\n",
            "Epoch 100/150\n",
            "6/6 [==============================] - 0s 22ms/step - loss: 1.5101e-04 - val_loss: 0.0141\n",
            "Epoch 101/150\n",
            "6/6 [==============================] - 0s 22ms/step - loss: 1.4272e-04 - val_loss: 0.0142\n",
            "Epoch 102/150\n",
            "6/6 [==============================] - 0s 24ms/step - loss: 1.4154e-04 - val_loss: 0.0143\n",
            "Epoch 103/150\n",
            "6/6 [==============================] - 0s 22ms/step - loss: 1.4026e-04 - val_loss: 0.0144\n",
            "Epoch 104/150\n",
            "6/6 [==============================] - 0s 22ms/step - loss: 1.4074e-04 - val_loss: 0.0143\n",
            "Epoch 105/150\n",
            "6/6 [==============================] - 0s 22ms/step - loss: 1.4131e-04 - val_loss: 0.0139\n",
            "Epoch 106/150\n",
            "6/6 [==============================] - 0s 22ms/step - loss: 1.3641e-04 - val_loss: 0.0138\n",
            "Epoch 107/150\n",
            "6/6 [==============================] - 0s 22ms/step - loss: 1.3723e-04 - val_loss: 0.0138\n",
            "Epoch 108/150\n",
            "6/6 [==============================] - 0s 24ms/step - loss: 1.4347e-04 - val_loss: 0.0137\n",
            "Epoch 109/150\n",
            "6/6 [==============================] - 0s 22ms/step - loss: 1.4004e-04 - val_loss: 0.0137\n",
            "Epoch 110/150\n",
            "6/6 [==============================] - 0s 22ms/step - loss: 1.4377e-04 - val_loss: 0.0136\n",
            "Epoch 111/150\n",
            "6/6 [==============================] - 0s 22ms/step - loss: 1.3563e-04 - val_loss: 0.0133\n",
            "Epoch 112/150\n",
            "6/6 [==============================] - 0s 21ms/step - loss: 1.3988e-04 - val_loss: 0.0136\n",
            "Epoch 113/150\n",
            "6/6 [==============================] - 0s 23ms/step - loss: 1.3771e-04 - val_loss: 0.0138\n",
            "Epoch 114/150\n",
            "6/6 [==============================] - 0s 22ms/step - loss: 1.5795e-04 - val_loss: 0.0140\n",
            "Epoch 115/150\n",
            "6/6 [==============================] - 0s 22ms/step - loss: 1.3764e-04 - val_loss: 0.0129\n",
            "Epoch 116/150\n",
            "6/6 [==============================] - 0s 22ms/step - loss: 1.3696e-04 - val_loss: 0.0128\n",
            "Epoch 117/150\n",
            "6/6 [==============================] - 0s 22ms/step - loss: 1.2986e-04 - val_loss: 0.0128\n",
            "Epoch 118/150\n",
            "6/6 [==============================] - 0s 22ms/step - loss: 1.3105e-04 - val_loss: 0.0131\n",
            "Epoch 119/150\n",
            "6/6 [==============================] - 0s 22ms/step - loss: 1.2743e-04 - val_loss: 0.0129\n",
            "Epoch 120/150\n",
            "6/6 [==============================] - 0s 22ms/step - loss: 1.3228e-04 - val_loss: 0.0135\n",
            "Epoch 121/150\n",
            "6/6 [==============================] - 0s 23ms/step - loss: 1.3834e-04 - val_loss: 0.0133\n",
            "Epoch 122/150\n",
            "6/6 [==============================] - 0s 22ms/step - loss: 1.4268e-04 - val_loss: 0.0132\n",
            "Epoch 123/150\n",
            "6/6 [==============================] - 0s 22ms/step - loss: 1.3407e-04 - val_loss: 0.0127\n",
            "Epoch 124/150\n",
            "6/6 [==============================] - 0s 22ms/step - loss: 1.2430e-04 - val_loss: 0.0123\n",
            "Epoch 125/150\n",
            "6/6 [==============================] - 0s 22ms/step - loss: 1.2685e-04 - val_loss: 0.0126\n",
            "Epoch 126/150\n",
            "6/6 [==============================] - 0s 22ms/step - loss: 1.2293e-04 - val_loss: 0.0125\n",
            "Epoch 127/150\n",
            "6/6 [==============================] - 0s 23ms/step - loss: 1.1962e-04 - val_loss: 0.0132\n",
            "Epoch 128/150\n",
            "6/6 [==============================] - 0s 22ms/step - loss: 1.2391e-04 - val_loss: 0.0131\n",
            "Epoch 129/150\n",
            "6/6 [==============================] - 0s 22ms/step - loss: 1.2667e-04 - val_loss: 0.0133\n",
            "Epoch 130/150\n",
            "6/6 [==============================] - 0s 22ms/step - loss: 1.1898e-04 - val_loss: 0.0137\n",
            "Epoch 131/150\n",
            "6/6 [==============================] - 0s 23ms/step - loss: 1.2431e-04 - val_loss: 0.0129\n",
            "Epoch 132/150\n",
            "6/6 [==============================] - 0s 22ms/step - loss: 1.2417e-04 - val_loss: 0.0127\n",
            "Epoch 133/150\n",
            "6/6 [==============================] - 0s 22ms/step - loss: 1.2141e-04 - val_loss: 0.0121\n",
            "Epoch 134/150\n",
            "6/6 [==============================] - 0s 22ms/step - loss: 1.1606e-04 - val_loss: 0.0120\n",
            "Epoch 135/150\n",
            "6/6 [==============================] - 0s 23ms/step - loss: 1.1756e-04 - val_loss: 0.0121\n",
            "Epoch 136/150\n",
            "6/6 [==============================] - 0s 22ms/step - loss: 1.1425e-04 - val_loss: 0.0123\n",
            "Epoch 137/150\n",
            "6/6 [==============================] - 0s 22ms/step - loss: 1.1872e-04 - val_loss: 0.0124\n",
            "Epoch 138/150\n",
            "6/6 [==============================] - 0s 22ms/step - loss: 1.2870e-04 - val_loss: 0.0124\n",
            "Epoch 139/150\n",
            "6/6 [==============================] - 0s 23ms/step - loss: 1.1845e-04 - val_loss: 0.0124\n",
            "Epoch 140/150\n",
            "6/6 [==============================] - 0s 23ms/step - loss: 1.3310e-04 - val_loss: 0.0132\n",
            "Epoch 141/150\n",
            "6/6 [==============================] - 0s 22ms/step - loss: 1.1712e-04 - val_loss: 0.0131\n",
            "Epoch 142/150\n",
            "6/6 [==============================] - 0s 21ms/step - loss: 1.1517e-04 - val_loss: 0.0129\n",
            "Epoch 143/150\n",
            "6/6 [==============================] - 0s 22ms/step - loss: 1.1390e-04 - val_loss: 0.0137\n",
            "Epoch 144/150\n",
            "6/6 [==============================] - 0s 22ms/step - loss: 1.1633e-04 - val_loss: 0.0136\n",
            "Epoch 145/150\n",
            "6/6 [==============================] - 0s 23ms/step - loss: 1.1898e-04 - val_loss: 0.0128\n",
            "Epoch 146/150\n",
            "6/6 [==============================] - 0s 21ms/step - loss: 1.0709e-04 - val_loss: 0.0124\n",
            "Epoch 147/150\n",
            "6/6 [==============================] - 0s 22ms/step - loss: 1.0632e-04 - val_loss: 0.0129\n",
            "Epoch 148/150\n",
            "6/6 [==============================] - 0s 22ms/step - loss: 1.1121e-04 - val_loss: 0.0126\n",
            "Epoch 149/150\n",
            "6/6 [==============================] - 0s 22ms/step - loss: 1.1186e-04 - val_loss: 0.0131\n",
            "Epoch 150/150\n",
            "6/6 [==============================] - 0s 23ms/step - loss: 1.0218e-04 - val_loss: 0.0139\n"
          ],
          "name": "stdout"
        },
        {
          "output_type": "execute_result",
          "data": {
            "text/plain": [
              "<tensorflow.python.keras.callbacks.History at 0x7f2350c7fa58>"
            ]
          },
          "metadata": {
            "tags": []
          },
          "execution_count": 353
        }
      ]
    },
    {
      "cell_type": "code",
      "metadata": {
        "id": "6MzObHeMG3N1"
      },
      "source": [
        "jsonmodel= model.to_json()"
      ],
      "execution_count": 354,
      "outputs": []
    },
    {
      "cell_type": "code",
      "metadata": {
        "id": "uVqHaxplt2bf"
      },
      "source": [
        "json_file= open(\"apple.json\",'w')"
      ],
      "execution_count": 355,
      "outputs": []
    },
    {
      "cell_type": "code",
      "metadata": {
        "colab": {
          "base_uri": "https://localhost:8080/"
        },
        "id": "bNtLV6fB4n8C",
        "outputId": "6cc98537-a2bc-43d4-9c2d-7bea472a1f1d"
      },
      "source": [
        "json_file.write(jsonmodel)"
      ],
      "execution_count": 356,
      "outputs": [
        {
          "output_type": "execute_result",
          "data": {
            "text/plain": [
              "3241"
            ]
          },
          "metadata": {
            "tags": []
          },
          "execution_count": 356
        }
      ]
    },
    {
      "cell_type": "code",
      "metadata": {
        "colab": {
          "base_uri": "https://localhost:8080/"
        },
        "id": "LgJb_qFP40FK",
        "outputId": "c7fe28aa-b549-45ce-c11a-03040f21020b"
      },
      "source": [
        "model.save_weights(\"apple.h5\")\r\n",
        "Xtrain.shape"
      ],
      "execution_count": 357,
      "outputs": [
        {
          "output_type": "execute_result",
          "data": {
            "text/plain": [
              "(728, 150, 1)"
            ]
          },
          "metadata": {
            "tags": []
          },
          "execution_count": 357
        }
      ]
    },
    {
      "cell_type": "code",
      "metadata": {
        "id": "r6vItyoS5csM"
      },
      "source": [
        "train_predict=model.predict(Xtrain)\r\n",
        "test_predict= model.predict(xtest)"
      ],
      "execution_count": 358,
      "outputs": []
    },
    {
      "cell_type": "code",
      "metadata": {
        "id": "i74F9tpM7snS"
      },
      "source": [
        "train_predict= scaler.inverse_transform(train_predict)\r\n",
        "test_predict= scaler.inverse_transform(test_predict)"
      ],
      "execution_count": 359,
      "outputs": []
    },
    {
      "cell_type": "code",
      "metadata": {
        "colab": {
          "base_uri": "https://localhost:8080/"
        },
        "id": "nAvip1Dh-HMe",
        "outputId": "ca02f00d-4807-4461-f905-ff09fe40a6cf"
      },
      "source": [
        "import math\r\n",
        "from sklearn.metrics import  mean_squared_error\r\n",
        "math.sqrt(mean_squared_error(ytrain,train_predict))"
      ],
      "execution_count": 360,
      "outputs": [
        {
          "output_type": "execute_result",
          "data": {
            "text/plain": [
              "166.61413816290707"
            ]
          },
          "metadata": {
            "tags": []
          },
          "execution_count": 360
        }
      ]
    },
    {
      "cell_type": "code",
      "metadata": {
        "colab": {
          "base_uri": "https://localhost:8080/"
        },
        "id": "B0ffAGPK_TUq",
        "outputId": "1317a15a-5206-4caa-e460-efa5787f6a89"
      },
      "source": [
        "math.sqrt(mean_squared_error(ytest,test_predict))"
      ],
      "execution_count": 361,
      "outputs": [
        {
          "output_type": "execute_result",
          "data": {
            "text/plain": [
              "299.58129653786784"
            ]
          },
          "metadata": {
            "tags": []
          },
          "execution_count": 361
        }
      ]
    },
    {
      "cell_type": "code",
      "metadata": {
        "colab": {
          "base_uri": "https://localhost:8080/"
        },
        "id": "GUJ1qpgh9oYi",
        "outputId": "a43d53fc-a8ef-4f0a-d66e-02d711793e63"
      },
      "source": [
        "dig1= np.empty_like(df1)\r\n",
        "dig1.fill(np.nan)\r\n",
        "#print(len(train_predict))\r\n",
        "dig1[time_step+1:len(train_predict)+time_step+1]= train_predict\r\n",
        "#dig2= np.empty_like(df1)\r\n",
        "#dig2.fill(np.nan)\r\n",
        "print(len(test_predict),\" \",len(dig2))\r\n",
        "dig1[time_step+len(train_predict)+time_step+2:]= test_predict\r\n"
      ],
      "execution_count": 362,
      "outputs": [
        {
          "output_type": "stream",
          "text": [
            "227   1257\n"
          ],
          "name": "stdout"
        }
      ]
    },
    {
      "cell_type": "code",
      "metadata": {
        "colab": {
          "base_uri": "https://localhost:8080/",
          "height": 642
        },
        "id": "SlfYYZ8R_fn4",
        "outputId": "8296833a-14a4-4096-83f1-f436f131baa8"
      },
      "source": [
        "plt.figure(figsize=(20,10))\r\n",
        "#plt.plot(dig1,'r*')\r\n",
        "#plt.plot(dig2,'b')\r\n",
        "df2= scaler.inverse_transform(df1)\r\n",
        "plt.plot(df2,'r')\r\n",
        "\r\n",
        "input_for_future_prediction= dig1.copy()\r\n",
        "for i in range(len(input_for_future_prediction)):\r\n",
        "  if np.isnan(input_for_future_prediction[i]):\r\n",
        "    input_for_future_prediction[i]= df2[i]\r\n",
        "#plt.plot(input_for_future_prediction,'g',linewidth=2)\r\n",
        "\r\n",
        "\r\n",
        "\r\n",
        "\r\n",
        "t=0\r\n",
        "prediction= list()\r\n",
        "while t<80:\r\n",
        "  X= input_for_future_prediction[len(input_for_future_prediction)-time_step:].copy()\r\n",
        " # print(X.shape)\r\n",
        "  X= scaler.fit_transform(np.array(X))\r\n",
        "  X= X.reshape(1,-1)\r\n",
        "  X=X.reshape(1,time_step,1)\r\n",
        "  Y= model.predict(np.array(X))\r\n",
        "\r\n",
        "  #for i in range(len(X)-1):\r\n",
        "  #  X[i]=X[i+1]  \r\n",
        "  #X[len(X)-1]=Y\r\n",
        "\r\n",
        "  Y_actual = scaler.inverse_transform(Y)\r\n",
        "  prediction.append(Y_actual)\r\n",
        "  #print(Y_actual)\r\n",
        "  #input(\"Press Enter to continue...\")\r\n",
        "  input_for_future_prediction= np.array(input_for_future_prediction).tolist()\r\n",
        "  input_for_future_prediction.append(Y_actual)\r\n",
        "  input_for_future_prediction= np.array(input_for_future_prediction)\r\n",
        "  t=t+1\r\n",
        "print(prediction)\r\n",
        "plt.plot(input_for_future_prediction,'g',linewidth=2)"
      ],
      "execution_count": 368,
      "outputs": [
        {
          "output_type": "stream",
          "text": [
            "[array([[125.33532]], dtype=float32), array([[126.12791]], dtype=float32), array([[126.819954]], dtype=float32), array([[127.443756]], dtype=float32), array([[128.02715]], dtype=float32), array([[128.58891]], dtype=float32), array([[129.13997]], dtype=float32), array([[129.68602]], dtype=float32), array([[130.23]], dtype=float32), array([[130.77342]], dtype=float32), array([[131.31743]], dtype=float32), array([[131.86296]], dtype=float32), array([[132.41089]], dtype=float32), array([[132.96199]], dtype=float32), array([[133.51697]], dtype=float32), array([[134.07632]], dtype=float32), array([[134.64041]], dtype=float32), array([[135.20947]], dtype=float32), array([[135.7836]], dtype=float32), array([[136.36281]], dtype=float32), array([[136.94702]], dtype=float32), array([[137.5361]], dtype=float32), array([[138.12991]], dtype=float32), array([[138.72826]], dtype=float32), array([[139.33098]], dtype=float32), array([[139.9379]], dtype=float32), array([[140.54884]], dtype=float32), array([[141.16368]], dtype=float32), array([[141.78229]], dtype=float32), array([[142.40459]], dtype=float32), array([[143.03044]], dtype=float32), array([[143.65985]], dtype=float32), array([[144.29276]], dtype=float32), array([[144.92912]], dtype=float32), array([[145.56894]], dtype=float32), array([[146.21223]], dtype=float32), array([[146.85901]], dtype=float32), array([[147.50926]], dtype=float32), array([[148.16304]], dtype=float32), array([[148.82037]], dtype=float32), array([[149.48128]], dtype=float32), array([[150.14578]], dtype=float32), array([[150.8139]], dtype=float32), array([[151.4857]], dtype=float32), array([[152.16118]], dtype=float32), array([[152.84033]], dtype=float32), array([[153.52322]], dtype=float32), array([[154.20981]], dtype=float32), array([[154.90018]], dtype=float32), array([[155.59427]], dtype=float32), array([[156.29211]], dtype=float32), array([[156.99371]], dtype=float32), array([[157.69904]], dtype=float32), array([[158.40814]], dtype=float32), array([[159.12097]], dtype=float32), array([[159.83754]], dtype=float32), array([[160.5578]], dtype=float32), array([[161.28178]], dtype=float32), array([[162.00946]], dtype=float32), array([[162.74081]], dtype=float32), array([[163.47581]], dtype=float32), array([[164.21443]], dtype=float32), array([[164.95668]], dtype=float32), array([[165.70251]], dtype=float32), array([[166.4519]], dtype=float32), array([[167.2048]], dtype=float32), array([[167.96123]], dtype=float32), array([[168.72107]], dtype=float32), array([[169.48436]], dtype=float32), array([[170.25104]], dtype=float32), array([[171.02104]], dtype=float32), array([[171.79434]], dtype=float32), array([[172.57089]], dtype=float32), array([[173.35063]], dtype=float32), array([[174.13348]], dtype=float32), array([[174.91943]], dtype=float32), array([[175.70837]], dtype=float32), array([[176.35947]], dtype=float32), array([[176.79298]], dtype=float32), array([[177.15613]], dtype=float32)]\n"
          ],
          "name": "stdout"
        },
        {
          "output_type": "execute_result",
          "data": {
            "text/plain": [
              "[<matplotlib.lines.Line2D at 0x7f234e32ec18>]"
            ]
          },
          "metadata": {
            "tags": []
          },
          "execution_count": 368
        },
        {
          "output_type": "display_data",
          "data": {
            "image/png": "[encoded data removed]",
            "text/plain": [
              "<Figure size 1440x720 with 1 Axes>"
            ]
          },
          "metadata": {
            "tags": [],
            "needs_background": "light"
          }
        }
      ]
    },
    {
      "cell_type": "code",
      "metadata": {
        "id": "UEWI0BDo8W4D"
      },
      "source": [
        "\r\n",
        "\r\n",
        "\r\n",
        "\r\n",
        "\r\n",
        "\r\n",
        "\r\n",
        "\r\n",
        "\r\n",
        "\r\n",
        "\r\n",
        "\r\n",
        "\r\n",
        "\r\n",
        "\r\n",
        "\r\n",
        "\r\n",
        "\r\n",
        "\r\n",
        "\r\n",
        "\r\n",
        "\r\n"
      ],
      "execution_count": 336,
      "outputs": []
    },
    {
      "cell_type": "code",
      "metadata": {
        "id": "xswPnldUfdov"
      },
      "source": [
        ""
      ],
      "execution_count": null,
      "outputs": []
    }
  ]
}